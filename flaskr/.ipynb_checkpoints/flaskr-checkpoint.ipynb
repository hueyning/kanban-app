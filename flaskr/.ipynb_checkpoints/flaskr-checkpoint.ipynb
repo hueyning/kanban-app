{
 "cells": [
  {
   "cell_type": "code",
   "execution_count": 2,
   "metadata": {},
   "outputs": [
    {
     "ename": "SyntaxError",
     "evalue": "invalid syntax (<ipython-input-2-6ef0fff5de53>, line 1)",
     "output_type": "error",
     "traceback": [
      "\u001b[0;36m  File \u001b[0;32m\"<ipython-input-2-6ef0fff5de53>\"\u001b[0;36m, line \u001b[0;32m1\u001b[0m\n\u001b[0;31m    pip install --editable\u001b[0m\n\u001b[0m              ^\u001b[0m\n\u001b[0;31mSyntaxError\u001b[0m\u001b[0;31m:\u001b[0m invalid syntax\n"
     ]
    }
   ],
   "source": [
    "import sys\n",
    "!{sys.executable} -m pip install --EDITABLE\n"
   ]
  },
  {
   "cell_type": "code",
   "execution_count": null,
   "metadata": {
    "collapsed": true
   },
   "outputs": [],
   "source": [
    "import os\n",
    "import sqlite3\n",
    "from flask import Flask, request, session, g, redirect, url_for, abort, \\\n",
    "     render_template, flash\n",
    "    \n",
    "app = Flask(__name__) # create the application instance :)\n",
    "app.config.from_object(__name__) # load config from this file , flaskr.py\n",
    "\n",
    "# Load default config and override config from an environment variable\n",
    "app.config.update(dict(\n",
    "    DATABASE=os.path.join(app.root_path, 'flaskr.db'),\n",
    "    SECRET_KEY='development key',\n",
    "    USERNAME='admin',\n",
    "    PASSWORD='default'\n",
    "))\n",
    "app.config.from_envvar('FLASKR_SETTINGS', silent=True)"
   ]
  },
  {
   "cell_type": "code",
   "execution_count": null,
   "metadata": {
    "collapsed": true
   },
   "outputs": [],
   "source": [
    "def connect_db():\n",
    "    \"\"\"Connects to the specific database.\"\"\"\n",
    "    rv = sqlite3.connect(app.config['DATABASE'])\n",
    "    rv.row_factory = sqlite3.Row\n",
    "    return rv"
   ]
  }
 ],
 "metadata": {
  "anaconda-cloud": {},
  "kernelspec": {
   "display_name": "Python [py36-test]",
   "language": "python",
   "name": "Python [py36-test]"
  },
  "language_info": {
   "codemirror_mode": {
    "name": "ipython",
    "version": 3
   },
   "file_extension": ".py",
   "mimetype": "text/x-python",
   "name": "python",
   "nbconvert_exporter": "python",
   "pygments_lexer": "ipython3",
   "version": "3.6.4"
  }
 },
 "nbformat": 4,
 "nbformat_minor": 1
}
